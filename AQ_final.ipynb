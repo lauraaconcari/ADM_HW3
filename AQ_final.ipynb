{
  "nbformat": 4,
  "nbformat_minor": 0,
  "metadata": {
    "colab": {
      "provenance": [],
      "include_colab_link": true
    },
    "kernelspec": {
      "name": "python3",
      "display_name": "Python 3"
    },
    "language_info": {
      "name": "python"
    }
  },
  "cells": [
    {
      "cell_type": "markdown",
      "metadata": {
        "id": "view-in-github",
        "colab_type": "text"
      },
      "source": [
        "<a href=\"https://colab.research.google.com/github/lauraaconcari/ADM_HW3/blob/main/AQ_final.ipynb\" target=\"_parent\"><img src=\"https://colab.research.google.com/assets/colab-badge.svg\" alt=\"Open In Colab\"/></a>"
      ]
    },
    {
      "cell_type": "markdown",
      "source": [
        "## 7. Algorithmic Question"
      ],
      "metadata": {
        "id": "N8fmj2lFEbgT"
      }
    },
    {
      "cell_type": "markdown",
      "source": [
        "Develop an algorithm to generate a report detailing the number of hours a worker (Leonardo) has worked each day for a specific number of days."
      ],
      "metadata": {
        "id": "PvWjw345E3rT"
      }
    },
    {
      "cell_type": "markdown",
      "source": [
        "**Input**"
      ],
      "metadata": {
        "id": "N0EFVtM6GNw8"
      }
    },
    {
      "cell_type": "markdown",
      "source": [
        "The first line of input contains two integers:\n",
        "- $d$ : the number of days Leonardo worked there;\n",
        "- $sumHours$: the total number of hours he worked for the company.\n",
        "\n",
        "Each of the following d lines contains two integer numbers:\n",
        "- $minTime_{i}$: the minimum hours he can work on the $i_{th}$ day;\n",
        "-$maxTime_{i}$: the maximum hours he can work on th $i_{th}$ day."
      ],
      "metadata": {
        "id": "zZKI2LPfEi-r"
      }
    },
    {
      "cell_type": "markdown",
      "source": [
        "**Output**"
      ],
      "metadata": {
        "id": "OsBNGWoWGhmE"
      }
    },
    {
      "cell_type": "markdown",
      "source": [
        "- Output '**NO**' if a report cannot be generated.\n",
        "- Output '**YES**' if a report can be generated, along with the number of hours Leonardo spent each day, indicated in the second line of the output.\n",
        "\n"
      ],
      "metadata": {
        "id": "abWjptsBGmlq"
      }
    },
    {
      "cell_type": "code",
      "source": [
        "def report_hours ():\n",
        "  d, sumHours = map(int, input().split())\n",
        "\n",
        "  # Initialize empty lists to store minimum and maximum hours for each day\n",
        "  minTime = []\n",
        "  maxTime = []\n",
        "\n",
        "  for i in range(d):\n",
        "    min_i, max_i = map(int, input().split())\n",
        "\n",
        "    # Add the minimum and maximum hours to their respective lists\n",
        "    minTime.append(min_i)\n",
        "    maxTime.append(max_i)\n",
        "\n",
        "  # Initialize an array to store the hours worked each day\n",
        "  dayHours=[0]*d\n",
        "\n",
        "  # Check if it's possible to generate a report\n",
        "  if (sumHours<d*min(minTime) or sumHours>d*max(maxTime)):\n",
        "      print('NO') # output 'NO' if it cannot be generated\n",
        "  else:\n",
        "      # If it is possible to generate a report, distribute the minimum hours for each day\n",
        "      count=sumHours # count the hours left\n",
        "      for i in range(d):\n",
        "        minHours=minTime[i]\n",
        "        dayHours[i]=minHours\n",
        "        count-=minHours\n",
        "\n",
        "      # Now we are going to distribute the remaining hours within the allowed maximum hours\n",
        "      for i in range(d):\n",
        "        rangeHours=maxTime[i]-minTime[i] # number of hours that can be added for each days\n",
        "        additionalHours=min(count,rangeHours)\n",
        "        dayHours[i]+=additionalHours\n",
        "        count-=additionalHours # count has to be zero at the end, meaning all hours are distributed\n",
        "      print('YES')\n",
        "      print(*dayHours)"
      ],
      "metadata": {
        "id": "zuh44aQXEnIu"
      },
      "execution_count": null,
      "outputs": []
    },
    {
      "cell_type": "markdown",
      "source": [
        "Let's execute the two examples of input given by the homework."
      ],
      "metadata": {
        "id": "FzPjzEWfgiQY"
      }
    },
    {
      "cell_type": "markdown",
      "source": [
        "**Example 1:**"
      ],
      "metadata": {
        "id": "H6XH74pyg8tD"
      }
    },
    {
      "cell_type": "code",
      "source": [
        "report_hours ()"
      ],
      "metadata": {
        "colab": {
          "base_uri": "https://localhost:8080/"
        },
        "id": "pyEC-2NskldE",
        "outputId": "98349e50-e43a-47d5-a0c3-b3f1cccf4809"
      },
      "execution_count": null,
      "outputs": [
        {
          "output_type": "stream",
          "name": "stdout",
          "text": [
            "2 5 \n",
            "0 1 \n",
            "3 5 \n",
            "YES\n",
            "1 4\n"
          ]
        }
      ]
    },
    {
      "cell_type": "markdown",
      "source": [
        "**Example 2:**"
      ],
      "metadata": {
        "id": "XsySuSnzhMpK"
      }
    },
    {
      "cell_type": "code",
      "source": [
        "report_hours ()"
      ],
      "metadata": {
        "colab": {
          "base_uri": "https://localhost:8080/"
        },
        "id": "4eJCAI4PkxoS",
        "outputId": "9a8d01a7-c1a4-456e-e307-823981a89597"
      },
      "execution_count": null,
      "outputs": [
        {
          "output_type": "stream",
          "name": "stdout",
          "text": [
            "1 1 \n",
            "5 6 \n",
            "NO\n"
          ]
        }
      ]
    },
    {
      "cell_type": "markdown",
      "source": [
        "**Time complexity**"
      ],
      "metadata": {
        "id": "KBDwzsVjYlPA"
      }
    },
    {
      "cell_type": "markdown",
      "source": [
        "The code has been rewritten and annotated, incorporating the time complexity for each section of the code."
      ],
      "metadata": {
        "id": "wzFQU9B_gXp_"
      }
    },
    {
      "cell_type": "markdown",
      "source": [
        "    def report_hours ():\n",
        "    d, sumHours = map(int, input().split()) # O(1) it's a constant time operation\n",
        "\n",
        "    minTime = []\n",
        "    maxTime = []\n",
        "\n",
        "    for i in range(d): # O(d) because it's a loop that runs d times\n",
        "      min_i, max_i = map(int, input().split()) # O(1)\n",
        "      minTime.append(min_i) # O(1)\n",
        "      maxTime.append(max_i) # O(1)\n",
        "      # all the operations inside the loop are a constant O(1)\n",
        "\n",
        "    dayHours=[0]*d\n",
        "\n",
        "    if (sumHours<d*min(minTime) or sumHours>d*max(maxTime)): # O(1)\n",
        "      print('NO') # O(1)\n",
        "    else:\n",
        "      count=sumHours # O(1)  \n",
        "\n",
        "      for i in range(d): # O(d) because it's a loop that runs d times\n",
        "        minHours=minTime[i] # O(1)\n",
        "        dayHours[i]=minHours # O(1)\n",
        "        count-=minHours # O(1)\n",
        "        # all the operations inside the loop are a constant O(1)\n",
        "        \n",
        "      \n",
        "      for i in range(d): # O(d) because it's a loop that runs d times\n",
        "        rangeHours=maxTime[i]-minTime[i]  # O(1)\n",
        "        additionalHours=min(count,rangeHours) # O(1)\n",
        "        dayHours[i]+=additionalHours # O(1)\n",
        "        count-=additionalHours # O(1)\n",
        "        # all the operations inside the loop are a constant O(1)\n",
        "\n",
        "      print('YES') # O(1) it's a constant time operation\n",
        "      print(*dayHours) # O(1) it's a constant time operation"
      ],
      "metadata": {
        "id": "H3RpUpmRafsT"
      }
    },
    {
      "cell_type": "markdown",
      "source": [
        "In conclusion, the total time complexity of the report_hours() function is determined by summing the time complexities of all operations. The result is **O(d)**, which represents the worst-case scenario."
      ],
      "metadata": {
        "id": "WTLk6ZkfihMX"
      }
    },
    {
      "cell_type": "markdown",
      "source": [
        "**Ask Chat GPT to check my code's time complexity**\n",
        "\n",
        "After consulting Chat GPT about the time complexity of my code, the answer is as follows:\n",
        "\n",
        "\"In summary, because all the operations inside the function have a time complexity of O(1), the overall time complexity of the function is O(n), where n is the number of days\"\n",
        "\n",
        "This corresponds to the previously obtained result."
      ],
      "metadata": {
        "id": "1ZZQ5GCJlK45"
      }
    },
    {
      "cell_type": "markdown",
      "source": [
        "**Optimality of the code**"
      ],
      "metadata": {
        "id": "7LndPR7PqryY"
      }
    },
    {
      "cell_type": "markdown",
      "source": [
        "I believe that my code could be improved by replacing the for loops with list comprehensions, as they should be faster. After a detailed analysis of the code, it becomes evident that it was possible to avoid creating two for loops in the if statement and instead create a single loop to optimize the times."
      ],
      "metadata": {
        "id": "RXFoHbkZozZn"
      }
    },
    {
      "cell_type": "code",
      "source": [
        "def report_hours ():\n",
        "  d, sumHours = map(int, input().split())\n",
        "\n",
        "  # Initialize empty lists to store minimum and maximum hours for each day\n",
        "  minTime = []\n",
        "  maxTime = []\n",
        "\n",
        "  minTime, maxTime = zip(*[map(int, input().split()) for i in range(d)])\n",
        "\n",
        "  # Initialize an array to store the hours worked each day\n",
        "  dayHours=[0]*d\n",
        "\n",
        "  # Check if it's possible to generate a report\n",
        "  if (sumHours<d*min(minTime) or sumHours>d*max(maxTime)):\n",
        "      print('NO') # output 'NO' if it cannot be generated\n",
        "  else:\n",
        "      # If it is possible to generate a report, distribute the minimum hours for each day\n",
        "      count=sumHours # count the hours left\n",
        "      for i in range(d):\n",
        "        minHours=minTime[i]\n",
        "        dayHours[i]=minHours\n",
        "        count-=minHours\n",
        "\n",
        "      # Now we are going to distribute the remaining hours within the allowed maximum hours\n",
        "        rangeHours=maxTime[i]-minTime[i] # number of hours that can be added for each days\n",
        "        additionalHours=min(count,rangeHours)\n",
        "        dayHours[i]+=additionalHours\n",
        "        count-=additionalHours # count has to be zero at the end, meaning all hours are distributed\n",
        "      print('YES')\n",
        "      print(*dayHours)"
      ],
      "metadata": {
        "id": "JYwy0r2jsnTJ"
      },
      "execution_count": null,
      "outputs": []
    }
  ]
}